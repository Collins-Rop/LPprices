{
 "cells": [
  {
   "cell_type": "code",
   "execution_count": 1,
   "id": "bed7d17b",
   "metadata": {},
   "outputs": [],
   "source": [
    "from sklearn.svm import SVC\n",
    "from sklearn.preprocessing import StandardScaler\n",
    "from sklearn.datasets import make_classification"
   ]
  },
  {
   "cell_type": "code",
   "execution_count": 2,
   "id": "8aa4167a",
   "metadata": {},
   "outputs": [],
   "source": [
    "import pickle"
   ]
  },
  {
   "cell_type": "code",
   "execution_count": 3,
   "id": "be8096a1",
   "metadata": {},
   "outputs": [],
   "source": [
    "file = open('pipe.pkl', 'rb')\n",
    "reload = pickle.load(file)"
   ]
  },
  {
   "cell_type": "code",
   "execution_count": 4,
   "id": "8ded9808",
   "metadata": {},
   "outputs": [],
   "source": [
    "import pandas as pd"
   ]
  },
  {
   "cell_type": "code",
   "execution_count": 5,
   "id": "ce5baf39",
   "metadata": {},
   "outputs": [],
   "source": [
    "arr = [-1.61373536e-01,  2.75097020e-02, -5.11040464e-01,\n",
    "         8.56699698e-01,  1.14032083e-01,  1.36741498e+00,\n",
    "        -1.04979701e-01,  1.53644461e-01, -1.61935998e+00,\n",
    "        -1.21286782e+00,  9.94282124e-01,  2.83769554e-01,\n",
    "        -1.15820319e+00,  2.23201639e+00, -1.58447356e+00,\n",
    "         1.79444881e+00,  8.44454307e-01, -4.43584187e-01,\n",
    "        -2.82195877e-01, -1.65534404e+00]"
   ]
  },
  {
   "cell_type": "code",
   "execution_count": 6,
   "id": "39a8659b",
   "metadata": {},
   "outputs": [],
   "source": [
    "import numpy as np"
   ]
  },
  {
   "cell_type": "code",
   "execution_count": 7,
   "id": "ab2ad935",
   "metadata": {},
   "outputs": [],
   "source": [
    "arr = np.array(arr)"
   ]
  },
  {
   "cell_type": "code",
   "execution_count": 8,
   "id": "e703f316",
   "metadata": {},
   "outputs": [],
   "source": [
    "arr = arr.reshape(1, -1)"
   ]
  },
  {
   "cell_type": "code",
   "execution_count": 9,
   "id": "6d367a8e",
   "metadata": {},
   "outputs": [],
   "source": [
    "pred = reload.predict(arr)"
   ]
  },
  {
   "cell_type": "code",
   "execution_count": 10,
   "id": "b9e45f31",
   "metadata": {},
   "outputs": [
    {
     "data": {
      "text/plain": [
       "array([1])"
      ]
     },
     "execution_count": 10,
     "metadata": {},
     "output_type": "execute_result"
    }
   ],
   "source": [
    "pred"
   ]
  },
  {
   "cell_type": "code",
   "execution_count": 21,
   "id": "aae7eb92",
   "metadata": {},
   "outputs": [],
   "source": [
    "arr =  [-4.99016638e-01, -9.19113445e-01,  1.48449581e-01,\n",
    "         1.69989125e+00, -4.75683472e-01, -1.79132755e+00,\n",
    "        -3.65055217e-01, -3.17543094e-01,  4.76898369e-01,\n",
    "         1.48935596e+00,  2.39203665e+00,  5.21303748e-01,\n",
    "        -1.34149673e+00,  1.92753849e-01, -1.63242330e+00,\n",
    "         2.13512238e-02, -6.71341546e-02, -1.66130052e+00,\n",
    "         6.11927193e-01, -5.85865511e-02]"
   ]
  },
  {
   "cell_type": "code",
   "execution_count": 22,
   "id": "b21578f2",
   "metadata": {},
   "outputs": [],
   "source": [
    "arr = np.array(arr)"
   ]
  },
  {
   "cell_type": "code",
   "execution_count": 23,
   "id": "3b2e4ad2",
   "metadata": {},
   "outputs": [],
   "source": [
    "arr= arr.reshape(1, -1)"
   ]
  },
  {
   "cell_type": "code",
   "execution_count": 24,
   "id": "bf876f64",
   "metadata": {},
   "outputs": [],
   "source": [
    "pred = reload.predict(arr)"
   ]
  },
  {
   "cell_type": "code",
   "execution_count": 25,
   "id": "a6cf61dd",
   "metadata": {},
   "outputs": [
    {
     "data": {
      "text/plain": [
       "array([1])"
      ]
     },
     "execution_count": 25,
     "metadata": {},
     "output_type": "execute_result"
    }
   ],
   "source": [
    "pred"
   ]
  },
  {
   "cell_type": "code",
   "execution_count": null,
   "id": "77c92d5f",
   "metadata": {},
   "outputs": [],
   "source": []
  }
 ],
 "metadata": {
  "kernelspec": {
   "display_name": "Python 3 (ipykernel)",
   "language": "python",
   "name": "python3"
  },
  "language_info": {
   "codemirror_mode": {
    "name": "ipython",
    "version": 3
   },
   "file_extension": ".py",
   "mimetype": "text/x-python",
   "name": "python",
   "nbconvert_exporter": "python",
   "pygments_lexer": "ipython3",
   "version": "3.9.7"
  }
 },
 "nbformat": 4,
 "nbformat_minor": 5
}
